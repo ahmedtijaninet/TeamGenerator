{
  "nbformat": 4,
  "nbformat_minor": 0,
  "metadata": {
    "colab": {
      "provenance": [],
      "authorship_tag": "ABX9TyOzTBclosgjyzZ8ZC7eJtHs",
      "include_colab_link": true
    },
    "kernelspec": {
      "name": "python3",
      "display_name": "Python 3"
    },
    "language_info": {
      "name": "python"
    }
  },
  "cells": [
    {
      "cell_type": "markdown",
      "metadata": {
        "id": "view-in-github",
        "colab_type": "text"
      },
      "source": [
        "<a href=\"https://colab.research.google.com/github/ahmedtijaninet/TeamGenerator/blob/main/Team_Generator.ipynb\" target=\"_parent\"><img src=\"https://colab.research.google.com/assets/colab-badge.svg\" alt=\"Open In Colab\"/></a>"
      ]
    },
    {
      "cell_type": "code",
      "source": [
        "!rm -d *\n",
        "!pip install faker\n",
        "!pip install pandas\n",
        "!pip install openpyxl"
      ],
      "metadata": {
        "id": "___Wg-Uafr_e"
      },
      "execution_count": null,
      "outputs": []
    },
    {
      "cell_type": "code",
      "source": [
        "import pandas as pd\n",
        "from faker import Faker\n",
        "import csv"
      ],
      "metadata": {
        "id": "NzVNXCD3H_cK"
      },
      "execution_count": 77,
      "outputs": []
    },
    {
      "cell_type": "code",
      "source": [
        "# Create a Faker instance\n",
        "fake = Faker()\n",
        "# Open a CSV file for writing\n",
        "with open('teams.csv', 'w', newline='') as csvfile:\n",
        "    writer = csv.writer(csvfile)\n",
        "    # Generate 1000 fake people\n",
        "    for i in range(1000):\n",
        "        # Generate a fake name and skill level\n",
        "        name = fake.name()\n",
        "        skill_level = fake.random_int(25, 95)\n",
        "        # Write the data to the CSV file\n",
        "        writer.writerow([name, skill_level])\n"
      ],
      "metadata": {
        "id": "8VE-lfe9fHVg"
      },
      "execution_count": 78,
      "outputs": []
    },
    {
      "cell_type": "code",
      "source": [
        "# Read in the data from teams.csv\n",
        "with open('teams.csv', 'r') as f:\n",
        "    reader = csv.reader(f)\n",
        "    data = list(reader)\n",
        "# Create a list of tuples (name, skill_level) from the data\n",
        "teams = [(row[0], row[1]) for row in data]\n",
        "# Sort the teams by skill level, from highest to lowest\n",
        "teams.sort(key=lambda x: x[1], reverse=True)\n",
        "# Create a list of 5 empty lists to represent the 5 teams\n",
        "team_lists = [[] for _ in range(4)]\n",
        "# Iterate over the teams and evenly distribute them among the 5 lists\n",
        "for i, team in enumerate(teams):\n",
        "    team_lists[i % 4].append(team)\n",
        "# Print out the teams\n",
        "for i, team in enumerate(team_lists):\n",
        "    print(f'Team {i+1}: {team}')"
      ],
      "metadata": {
        "id": "ggUt3FSxtOah"
      },
      "execution_count": null,
      "outputs": []
    },
    {
      "cell_type": "code",
      "source": [
        "# Write the teams to teams_out.csv\n",
        "with open('teams_out.csv', 'w') as f:\n",
        "    writer = csv.writer(f)\n",
        "    for i, team in enumerate(team_lists):\n",
        "        writer.writerow([f'Team {i+1}'] + [t[0] for t in team])\n",
        "teams = pd.read_csv('teams_out.csv').transpose()\n",
        "teams.to_csv('teams_out_transpose.csv')"
      ],
      "metadata": {
        "id": "XIjZsTh-H6t5"
      },
      "execution_count": 80,
      "outputs": []
    }
  ]
}